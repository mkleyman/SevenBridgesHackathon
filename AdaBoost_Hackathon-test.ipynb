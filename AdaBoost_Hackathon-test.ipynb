{
 "cells": [
  {
   "cell_type": "code",
   "execution_count": null,
   "metadata": {
    "collapsed": true
   },
   "outputs": [],
   "source": []
  },
  {
   "cell_type": "code",
   "execution_count": 13,
   "metadata": {
    "collapsed": false,
    "scrolled": true
   },
   "outputs": [],
   "source": [
    "import numpy as np\n",
    "import os\n",
    "import pandas as pd #data handling library\n",
    "import sklearn as sk\n",
    "\n",
    "def get_RPKM_by_file(file_name, data_fields):\n",
    "    df = pd.read_table(file_name, usecols=data_fields)\n",
    "    df = df.T # transpose\n",
    "    new_header = df.iloc[0] #grab the first row for the header\n",
    "    df = df[1:] #take the data less the header row\n",
    "    df = df.rename(columns = new_header.T) #set the header row as the df header\n",
    "    return df\n",
    "\n",
    "\n",
    "def get_RPKM_by_filelist(list_fname):\n",
    "    RPKM_list = []\n",
    "    data_fields = ('gene','RPKM')\n",
    "    with open(list_fname, 'r') as f:\n",
    "        RPKM_list.extend(map(lambda data_file: get_RPKM_by_file(data_file, data_fields), f.readlines()))\n",
    "    return RPKM_list\n",
    "\n",
    "def get_RPKM_by_dir(data_dir):\n",
    "    RPKM_list = []\n",
    "    data_fields = ('gene','RPKM')\n",
    "    for dirName, subdirList, fileList in os.walk(data_dir):\n",
    "        RPKM_list.extend(map(lambda f: get_RPKM_by_file(os.path.join(dirName, f), data_fields), fileList))\n",
    "    return RPKM_list\n",
    "\n",
    "#data_dir = './Data'\n",
    "#RPKM_list = get_RPKM_by_dir(data_dir)\n",
    "RPKM_list = get_RPKM_by_filelist('files.index')"
   ]
  },
  {
   "cell_type": "code",
   "execution_count": 20,
   "metadata": {
    "collapsed": false
   },
   "outputs": [
    {
     "name": "stdout",
     "output_type": "stream",
     "text": [
      "['#case_id,age_at_diagnosis,vital_status,days_to_death,gender,sample_type,race,ethnicity,platform']\n"
     ]
    },
    {
     "data": {
      "text/html": [
       "<div>\n",
       "<table border=\"1\" class=\"dataframe\">\n",
       "  <thead>\n",
       "    <tr style=\"text-align: right;\">\n",
       "      <th></th>\n",
       "      <th>#case_id,age_at_diagnosis,vital_status,days_to_death,gender,sample_type,race,ethnicity,platform</th>\n",
       "    </tr>\n",
       "  </thead>\n",
       "  <tbody>\n",
       "    <tr>\n",
       "      <th>0</th>\n",
       "      <td>TCGA-GM-A2DC,57,Alive,,FEMALE,Primary Tumor,WH...</td>\n",
       "    </tr>\n",
       "    <tr>\n",
       "      <th>1</th>\n",
       "      <td>TCGA-GM-A2D9,69,Dead,1812,FEMALE,Primary Tumor...</td>\n",
       "    </tr>\n",
       "    <tr>\n",
       "      <th>2</th>\n",
       "      <td>TCGA-GM-A2DB,62,Alive,,FEMALE,Primary Tumor,WH...</td>\n",
       "    </tr>\n",
       "    <tr>\n",
       "      <th>3</th>\n",
       "      <td>TCGA-AC-A2QH,58,Alive,,FEMALE,Primary Tumor,WH...</td>\n",
       "    </tr>\n",
       "    <tr>\n",
       "      <th>4</th>\n",
       "      <td>TCGA-AR-A2LO,46,Alive,,FEMALE,Primary Tumor,WH...</td>\n",
       "    </tr>\n",
       "  </tbody>\n",
       "</table>\n",
       "</div>"
      ],
      "text/plain": [
       "  #case_id,age_at_diagnosis,vital_status,days_to_death,gender,sample_type,race,ethnicity,platform\n",
       "0  TCGA-GM-A2DC,57,Alive,,FEMALE,Primary Tumor,WH...                                             \n",
       "1  TCGA-GM-A2D9,69,Dead,1812,FEMALE,Primary Tumor...                                             \n",
       "2  TCGA-GM-A2DB,62,Alive,,FEMALE,Primary Tumor,WH...                                             \n",
       "3  TCGA-AC-A2QH,58,Alive,,FEMALE,Primary Tumor,WH...                                             \n",
       "4  TCGA-AR-A2LO,46,Alive,,FEMALE,Primary Tumor,WH...                                             "
      ]
     },
     "execution_count": 20,
     "metadata": {},
     "output_type": "execute_result"
    }
   ],
   "source": [
    "def get_labels(filename):\n",
    "    col = ('sample_type')\n",
    "    df = pd.read_table(filename)\n",
    "    return df\n",
    "print get_labels(\"metadata.csv\").head(n=5)"
   ]
  },
  {
   "cell_type": "code",
   "execution_count": null,
   "metadata": {
    "collapsed": false
   },
   "outputs": [],
   "source": [
    "\n",
    "#def get_RPKM_by_file(files):\n",
    "#    for file_name in files:\n",
    "#        df = pd.read_table(file_name, usecols=data_fields)\n",
    "#        df = df.T # tanspose\n",
    "#        new_header = df.iloc[0] #grab the first row for the header\n",
    "#        df = df[1:] #take the data less the header row\n",
    "#        df = df.rename(columns = new_header.T) #set the header row as the df header\n",
    "#        RPKM_list.append(df)\n",
    "#    return RPKM_list\n",
    "\n",
    "\n",
    "\n",
    "#flattened_data = get_RPKM_by_file(file_list)\n",
    "\n",
    "\n"
   ]
  },
  {
   "cell_type": "code",
   "execution_count": null,
   "metadata": {
    "collapsed": false
   },
   "outputs": [],
   "source": [
    "def merge_data(data_list):\n",
    "    df = pd.concat(data_list, axis=0, join='inner', join_axes=None, ignore_index=False,\n",
    "        keys=None, levels=None, names=None, verify_integrity=False)\n",
    "    return df\n",
    "\n",
    "X = merge_data(RPKM_list)\n",
    "Y = np.ravel(map(round, np.random.rand(len(X), 1)))\n",
    "\n",
    "print X"
   ]
  },
  {
   "cell_type": "code",
   "execution_count": null,
   "metadata": {
    "collapsed": false
   },
   "outputs": [],
   "source": [
    "# Impute missing data, assuming X is all numeric values. Y can be strings.\n",
    "from sklearn.preprocessing import Imputer\n",
    "imp = Imputer(missing_values='NaN', strategy='mean', axis=0)\n",
    "X = imp.fit_transform(X)\n",
    "\n",
    "imp = Imputer(missing_values='NaN', strategy='most_frequent', axis=0)\n",
    "Y = imp.fit_transform(Y)"
   ]
  },
  {
   "cell_type": "code",
   "execution_count": null,
   "metadata": {
    "collapsed": false
   },
   "outputs": [],
   "source": [
    "# Encode classes as numbers\n",
    "from sklearn.preprocessing import LabelEncoder\n",
    "le = LabelEncoder()\n",
    "nonnumeric_columns_X = []\n",
    "nonnumeric_columns_Y = []\n",
    "if nonnumeric_columns_X:\n",
    "    for feature in nonnumeric_columns_X:\n",
    "        X[feature] = le.fit_transform(X[feature])\n",
    "if nonnumeric_columns_Y:\n",
    "    for feature in nonnumeric_columns_Y:\n",
    "        Y[feature] = le.fit_transform(Y[feature])"
   ]
  },
  {
   "cell_type": "code",
   "execution_count": null,
   "metadata": {
    "collapsed": false,
    "scrolled": false
   },
   "outputs": [],
   "source": [
    "# Split data into train and test sets.\n",
    "def split_data(X, Y, p_train):\n",
    "    msk = np.random.rand(len(RPKM_list)) < p_train\n",
    "    print Y[0]\n",
    "    print msk\n",
    "    X_train = X[msk]\n",
    "    Y_train = Y[0][msk]\n",
    "    return X[msk], X[~msk], Y[0][msk], Y[0][~msk]\n",
    "\n",
    "train_X, test_X, train_Y, test_Y = split_data(X, Y, 0.6)\n",
    "print train_Y\n",
    "print test_Y"
   ]
  },
  {
   "cell_type": "code",
   "execution_count": null,
   "metadata": {
    "collapsed": false
   },
   "outputs": [],
   "source": []
  },
  {
   "cell_type": "code",
   "execution_count": null,
   "metadata": {
    "collapsed": false,
    "scrolled": true
   },
   "outputs": [],
   "source": []
  },
  {
   "cell_type": "code",
   "execution_count": null,
   "metadata": {
    "collapsed": false
   },
   "outputs": [],
   "source": []
  },
  {
   "cell_type": "code",
   "execution_count": null,
   "metadata": {
    "collapsed": true
   },
   "outputs": [],
   "source": []
  }
 ],
 "metadata": {
  "kernelspec": {
   "display_name": "Python 2",
   "language": "python",
   "name": "python2"
  },
  "language_info": {
   "codemirror_mode": {
    "name": "ipython",
    "version": 2
   },
   "file_extension": ".py",
   "mimetype": "text/x-python",
   "name": "python",
   "nbconvert_exporter": "python",
   "pygments_lexer": "ipython2",
   "version": "2.7.11"
  }
 },
 "nbformat": 4,
 "nbformat_minor": 0
}
