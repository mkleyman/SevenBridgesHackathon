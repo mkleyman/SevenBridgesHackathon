{
 "cells": [
  {
   "cell_type": "code",
   "execution_count": 58,
   "metadata": {
    "collapsed": false
   },
   "outputs": [
    {
     "name": "stdout",
     "output_type": "stream",
     "text": [
      "     ?|100130426 ?|100133144 ?|100134869  ?|10357  ?|10431 ?|136542 ?|155060  \\\n",
      "RPKM           0    0.809971    0.179658  3.67724  36.2023        0   3.7828   \n",
      "\n",
      "       ?|26823 ?|280660 ?|317712     ...     ZXDA|7789 ZXDB|158586 ZXDC|79364  \\\n",
      "RPKM  0.197409        0        0     ...      0.686332     3.34044    10.9434   \n",
      "\n",
      "     ZYG11A|440590 ZYG11B|79699 ZYX|7791 ZZEF1|23140 ZZZ3|26009  \\\n",
      "RPKM      0.614655      3.32428  51.6698     12.7978    7.19757   \n",
      "\n",
      "     psiTPTE22|387590 tAKR|389932  \n",
      "RPKM          14.0532    0.160082  \n",
      "\n",
      "[1 rows x 20532 columns]\n"
     ]
    }
   ],
   "source": [
    "import pandas as pd #data handling library\n",
    "import sklearn as sk\n",
    "\n",
    "def read_file_list(file_list_name):\n",
    "    \"\"\"\n",
    "\n",
    "    :param file_list_name: name of file that containts list of feature file names (should be full paths)\n",
    "    :return: list of files names\n",
    "    \"\"\"\n",
    "    files = []\n",
    "    with open(file_list_name, 'r') as file_list:\n",
    "        for line in file_list:\n",
    "            files.append(line)\n",
    "    return files\n",
    "\n",
    "#file_list = read_file_list(\"index_file.txt\")"
   ]
  },
  {
   "cell_type": "code",
   "execution_count": 59,
   "metadata": {
    "collapsed": false
   },
   "outputs": [
    {
     "name": "stdout",
     "output_type": "stream",
     "text": [
      "     ?|100130426 ?|100133144 ?|100134869  ?|10357  ?|10431 ?|136542 ?|155060  \\\n",
      "RPKM           0    0.809971    0.179658  3.67724  36.2023        0   3.7828   \n",
      "\n",
      "       ?|26823 ?|280660 ?|317712     ...     ZXDA|7789 ZXDB|158586 ZXDC|79364  \\\n",
      "RPKM  0.197409        0        0     ...      0.686332     3.34044    10.9434   \n",
      "\n",
      "     ZYG11A|440590 ZYG11B|79699 ZYX|7791 ZZEF1|23140 ZZZ3|26009  \\\n",
      "RPKM      0.614655      3.32428  51.6698     12.7978    7.19757   \n",
      "\n",
      "     psiTPTE22|387590 tAKR|389932  \n",
      "RPKM          14.0532    0.160082  \n",
      "\n",
      "[1 rows x 20532 columns]\n"
     ]
    }
   ],
   "source": [
    "def get_RPKM_by_file(files):\n",
    "    \n",
    "    data_fields = ('gene','RPKM')\n",
    "    RPKM_list = []\n",
    "    for file_name in files:\n",
    "        df = pd.read_table(filename, usecols=data_fields)\n",
    "        df = df.T # tanspose\n",
    "        new_header = df.iloc[0] #grab the first row for the header\n",
    "        df = df[1:] #take the data less the header row\n",
    "        df = df.rename(columns = new_header.T) #set the header row as the df header\n",
    "        RPKM_list.append(df)\n",
    "    return RPKM_list = []\n",
    "\n",
    "flattened_data = get_RPKM_by_file(file_list)\n",
    "\n",
    "\n"
   ]
  },
  {
   "cell_type": "code",
   "execution_count": null,
   "metadata": {
    "collapsed": true
   },
   "outputs": [],
   "source": [
    "def merge_data(data_list):\n",
    "    df = pd.concat(l, axis=0, join='inner', join_axes=None, ignore_index=False,\n",
    "        keys=None, levels=None, names=None, verify_integrity=False)\n",
    "    return df\n",
    "\n",
    "\n",
    "\n",
    "\n",
    "\n",
    "\n"
   ]
  },
  {
   "cell_type": "code",
   "execution_count": null,
   "metadata": {
    "collapsed": true
   },
   "outputs": [],
   "source": [
    "#machine learning\n",
    "\n"
   ]
  }
 ],
 "metadata": {
  "kernelspec": {
   "display_name": "Python 2",
   "language": "python",
   "name": "python2"
  },
  "language_info": {
   "codemirror_mode": {
    "name": "ipython",
    "version": 2
   },
   "file_extension": ".py",
   "mimetype": "text/x-python",
   "name": "python",
   "nbconvert_exporter": "python",
   "pygments_lexer": "ipython2",
   "version": "2.7.11"
  }
 },
 "nbformat": 4,
 "nbformat_minor": 0
}
