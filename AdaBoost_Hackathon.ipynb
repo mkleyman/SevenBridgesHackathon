{
 "cells": [
  {
   "cell_type": "code",
   "execution_count": 32,
   "metadata": {
    "collapsed": false,
    "scrolled": true
   },
   "outputs": [
    {
     "name": "stdout",
     "output_type": "stream",
     "text": [
      "     ?|100130426 ?|100133144 ?|100134869   ?|10357   ?|10431 ?|136542  \\\n",
      "RPKM  0.06694772   0.9270708   0.4969419  5.518766  22.36725        0   \n",
      "\n",
      "      ?|155060    ?|26823 ?|280660 ?|317712   ...     ZXDA|7789 ZXDB|158586  \\\n",
      "RPKM  2.880182  0.2761594        0        0   ...     0.4448335   0.9159671   \n",
      "\n",
      "     ZXDC|79364 ZYG11A|440590 ZYG11B|79699  ZYX|7791 ZZEF1|23140 ZZZ3|26009  \\\n",
      "RPKM   10.07533     0.5495135     5.733637  60.77349    14.72033   9.193995   \n",
      "\n",
      "     psiTPTE22|387590 tAKR|389932  \n",
      "RPKM           6.5754   0.1973196  \n",
      "\n",
      "[1 rows x 20532 columns]\n"
     ]
    }
   ],
   "source": [
    "import numpy as np\n",
    "import os\n",
    "import pandas as pd #data handling library\n",
    "import sklearn as sk\n",
    "\n",
    "def get_RPKM_by_file(file_name, data_fields):\n",
    "    df = pd.read_table(file_name, usecols=data_fields)\n",
    "    df = df.T # tanspose\n",
    "    new_header = df.iloc[0] #grab the first row for the header\n",
    "    df = df[1:] #take the data less the header row\n",
    "    df = df.rename(columns = new_header.T) #set the header row as the df header\n",
    "    return df\n",
    "\n",
    "\n",
    "def get_RPKM_by_filelist(list_fname):\n",
    "    RPKM_list = []\n",
    "    data_fields = ('gene','RPKM')\n",
    "    with open(list_fname, 'r') as f:\n",
    "        RPKM_list.extend(map(lambda data_file: get_RPKM_by_file(data_file, data_fields), f.readlines()))\n",
    "    return RPKM_list\n",
    "\n",
    "def get_RPKM_by_dir(data_dir):\n",
    "    RPKM_list = []\n",
    "    data_fields = ('gene','RPKM')\n",
    "    for dirName, subdirList, fileList in os.walk(data_dir):\n",
    "        RPKM_list.extend(map(lambda f: get_RPKM_by_file(os.path.join(dirName, f), data_fields), fileList))\n",
    "    return RPKM_list\n",
    "\n",
    "data_dir = './Data'\n",
    "RPKM_list = get_RPKM_by_dir(data_dir)\n",
    "print RPKM_list[0]"
   ]
  },
  {
   "cell_type": "code",
   "execution_count": 33,
   "metadata": {
    "collapsed": false
   },
   "outputs": [
    {
     "name": "stdout",
     "output_type": "stream",
     "text": [
      "     ?|100130426 ?|100133144 ?|100134869   ?|10357   ?|10431    ?|136542  \\\n",
      "RPKM  0.06694772   0.9270708   0.4969419  5.518766  22.36725           0   \n",
      "RPKM           0    1.180236    0.450388  4.992169  24.97131           0   \n",
      "RPKM  0.04956242   0.9206793   0.3488647  3.163578  14.72296           0   \n",
      "RPKM           0   0.6563802   0.3193393  3.247601  42.65823  0.02245179   \n",
      "RPKM           0     1.19084   0.4598564  4.235559  32.02006           0   \n",
      "RPKM           0    1.363317    0.541452  4.209579   25.9165           0   \n",
      "RPKM           0   0.7934492   0.4086566  3.628636  37.58069           0   \n",
      "RPKM           0   0.4957196   0.2666096  5.330419  44.28414           0   \n",
      "RPKM           0    1.180167   0.5171587  3.949443  18.97144           0   \n",
      "RPKM           0   0.9261403   0.4104143  2.862239  39.80732           0   \n",
      "RPKM           0   0.9073837   0.3937844  6.820181   45.4014           0   \n",
      "RPKM           0    1.433736   0.5303374  2.528682  39.12532           0   \n",
      "RPKM  0.02517033   0.6545952   0.4896371  6.717153  52.48648           0   \n",
      "RPKM  0.04568156   0.5631538   0.2046213  4.410425  39.44337           0   \n",
      "RPKM           0     1.09992   0.4067801  3.894188  22.01988           0   \n",
      "RPKM           0   0.3333464  0.07578716  3.343024  25.94024           0   \n",
      "RPKM           0    1.221118   0.4479714  5.909189  31.01896           0   \n",
      "\n",
      "       ?|155060     ?|26823     ?|280660 ?|317712   ...     ZXDA|7789  \\\n",
      "RPKM   2.880182   0.2761594            0        0   ...     0.4448335   \n",
      "RPKM   8.243926   0.2788105            0        0   ...       1.96905   \n",
      "RPKM   6.713778   0.4088899            0        0   ...      1.951378   \n",
      "RPKM   1.544918   0.1439556  0.007806203        0   ...      1.682375   \n",
      "RPKM   2.686907   0.5558218            0        0   ...     0.9905555   \n",
      "RPKM   10.56401   0.2914042            0        0   ...      2.252072   \n",
      "RPKM   3.639547   0.3250151            0        0   ...      1.292995   \n",
      "RPKM   2.509489  0.07101866            0        0   ...      1.104407   \n",
      "RPKM   3.355286   0.3565532            0        0   ...      2.076756   \n",
      "RPKM   1.538811   0.1394289            0        0   ...      2.378504   \n",
      "RPKM   1.330062   0.1205511            0        0   ...      2.158725   \n",
      "RPKM   1.037319   0.2084589   0.01644217        0   ...       1.78965   \n",
      "RPKM   3.039798   0.1321442            0        0   ...      1.643973   \n",
      "RPKM   1.483596   0.1541753            0        0   ...      1.433698   \n",
      "RPKM   2.999885   0.2930964            0        0   ...      2.224635   \n",
      "RPKM  0.9158181   0.2516765            0        0   ...      1.409249   \n",
      "RPKM   6.183879   0.1899848            0        0   ...      2.034739   \n",
      "\n",
      "     ZXDB|158586 ZXDC|79364 ZYG11A|440590 ZYG11B|79699  ZYX|7791 ZZEF1|23140  \\\n",
      "RPKM   0.9159671   10.07533     0.5495135     5.733637  60.77349    14.72033   \n",
      "RPKM    3.550039   16.56948     0.8344213     4.417617  90.04401    28.66612   \n",
      "RPKM    3.703631   17.38064      1.127158     6.325297  64.63035    24.88021   \n",
      "RPKM    4.793152   19.91937      1.274424      6.47164  54.10248    13.84232   \n",
      "RPKM     5.05072   11.21554       3.38609     4.866982  46.09717    6.181643   \n",
      "RPKM    4.888903   17.26729      1.214275     7.073387  48.13292    16.07832   \n",
      "RPKM    6.104444   11.99822     0.5127433     6.214898  119.5185    14.80452   \n",
      "RPKM    3.418346   11.63121     0.4381243      6.56621  72.46476    8.717341   \n",
      "RPKM    4.583971    15.3294      0.862453     8.777147   100.641     27.3284   \n",
      "RPKM    8.781529   22.35904      1.812647     7.830281  39.49491    13.46314   \n",
      "RPKM    4.958647   11.12253      1.817526      7.98744  68.82817    26.52184   \n",
      "RPKM    5.622559   16.04491      1.453122     7.743638  22.53555    11.15337   \n",
      "RPKM    5.219251   16.19508       2.12917     5.425233  32.19101    20.07539   \n",
      "RPKM    2.864479    14.5428     0.8502249     8.398038  49.24875    14.83735   \n",
      "RPKM    4.869954   15.44025      2.220182     7.878948  60.79222    19.20085   \n",
      "RPKM    2.911627   10.24908     0.3116609     5.934093  98.62893    13.08843   \n",
      "RPKM    5.194105   15.70567      4.810977     6.424969  62.74812    19.50789   \n",
      "\n",
      "     ZZZ3|26009 psiTPTE22|387590 tAKR|389932  \n",
      "RPKM   9.193995           6.5754   0.1973196  \n",
      "RPKM   9.571766         5.483858   0.2191353  \n",
      "RPKM   14.07167          33.0067   0.1773813  \n",
      "RPKM   19.74924         83.22344  0.06061287  \n",
      "RPKM   16.39601         6.014384   0.2458499  \n",
      "RPKM     14.114         3.599174   0.2181271  \n",
      "RPKM    10.5448         13.92924   0.2304816  \n",
      "RPKM    6.87154         4.548772   0.1594805  \n",
      "RPKM   16.58078         12.12111   0.1401192  \n",
      "RPKM   50.64494         1.937369   0.1369828  \n",
      "RPKM   30.36997         1.461991   0.1933652  \n",
      "RPKM   17.00475         1.738647   0.1383077  \n",
      "RPKM   18.76954         2.371542   0.1377744  \n",
      "RPKM   13.77681          2.28248    0.115406  \n",
      "RPKM   17.94932           4.7904   0.1535757  \n",
      "RPKM   9.689696          15.4479  0.07480169  \n",
      "RPKM   13.26308         4.970666   0.2230124  \n",
      "\n",
      "[17 rows x 20532 columns]\n"
     ]
    }
   ],
   "source": [
    "def merge_data(data_list):\n",
    "    df = pd.concat(data_list, axis=0, join='inner', join_axes=None, ignore_index=False,\n",
    "        keys=None, levels=None, names=None, verify_integrity=False)\n",
    "    return df\n",
    "\n",
    "X = merge_data(RPKM_list)\n",
    "Y = np.ravel(map(round, np.random.rand(len(X), 1)))\n",
    "\n",
    "print X"
   ]
  },
  {
   "cell_type": "code",
   "execution_count": 5,
   "metadata": {
    "collapsed": false
   },
   "outputs": [],
   "source": [
    "# Impute missing data, assuming X is all numeric values. Y can be strings.\n",
    "from sklearn.preprocessing import Imputer\n",
    "imp = Imputer(missing_values='NaN', strategy='mean', axis=0)\n",
    "X_full = imp.fit_transform(X)\n",
    "\n",
    "imp = Imputer(missing_values='NaN', strategy='most_frequent', axis=0)\n",
    "Y_full = imp.fit_transform(Y)"
   ]
  },
  {
   "cell_type": "code",
   "execution_count": 6,
   "metadata": {
    "collapsed": false
   },
   "outputs": [],
   "source": [
    "# Encode classes as numbers\n",
    "from sklearn.preprocessing import LabelEncoder\n",
    "le = LabelEncoder()\n",
    "nonnumeric_columns_X = []\n",
    "nonnumeric_columns_Y = []\n",
    "if nonnumeric_columns_X:\n",
    "    for feature in nonnumeric_columns_X:\n",
    "        X_full[feature] = le.fit_transform(X_full[feature])\n",
    "if nonnumeric_columns_Y:\n",
    "    for feature in nonnumeric_columns_Y:\n",
    "        Y_full[feature] = le.fit_transform(Y_full[feature])"
   ]
  },
  {
   "cell_type": "code",
   "execution_count": 7,
   "metadata": {
    "collapsed": false,
    "scrolled": false
   },
   "outputs": [
    {
     "name": "stdout",
     "output_type": "stream",
     "text": [
      "[ 1.  1.  0.  0.  0.  1.  0.  0.  1.  0.  1.  1.  1.  1.  0.  1.  1.]\n",
      "[False  True  True  True  True False  True  True  True  True  True False\n",
      "  True  True False False  True]\n"
     ]
    }
   ],
   "source": [
    "# Split data into train and test sets.\n",
    "def split_data(X, Y, p_train):\n",
    "    msk = np.random.rand(len(RPKM_list)) < p_train\n",
    "    print Y[0]\n",
    "    print msk\n",
    "    X_train = X[msk]\n",
    "    Y_train = Y[0][msk]\n",
    "    return X[msk], X[~msk], Y[0][msk], Y[0][~msk]\n",
    "\n",
    "train_X, test_X, train_Y, test_Y = split_data(X_full, Y_full, 0.6)"
   ]
  },
  {
   "cell_type": "code",
   "execution_count": 8,
   "metadata": {
    "collapsed": false
   },
   "outputs": [
    {
     "name": "stdout",
     "output_type": "stream",
     "text": [
      "                   pvalue\n",
      "SMG1|23049      81.055241\n",
      "HCN1|348980     81.055241\n",
      "ELK4|2005       81.055241\n",
      "MSLNL|401827    81.055241\n",
      "EIF2C2|27161    81.055241\n",
      "WDR37|22884     81.055241\n",
      "TUBB3|10381     81.055241\n",
      "PLAC8L1|153770  81.055241\n",
      "C6orf1|221491   81.055241\n",
      "C5orf35|133383  81.055241\n"
     ]
    }
   ],
   "source": [
    "from utility import statsTest\n",
    "df_X_train = pd.DataFrame(train_X)\n",
    "df_Y_train = pd.DataFrame(train_Y)\n",
    "stats = statsTest.statistics_test(df_X_train, df_Y_train)\n",
    "stats.index = X.columns.values\n",
    "stats.columns = ['pvalue']# adjusted\n",
    "stats = stats.sort(columns=['pvalue']) #adjusted\n",
    "print stats[0:10]"
   ]
  },
  {
   "cell_type": "code",
   "execution_count": 24,
   "metadata": {
    "collapsed": false,
    "scrolled": true
   },
   "outputs": [],
   "source": [
    "import xgboost as xgb\n",
    "#gbm = xgb.XGBClassifier(max_depth=10, n_estimators=300, learning_rate=0.05).fit(train_X, train_Y)\n",
    "gbm = xgb.XGBClassifier(max_depth=20, n_estimators=300).fit(train_X, train_Y)\n",
    "predictions = gbm.predict(test_X)\n"
   ]
  },
  {
   "cell_type": "code",
   "execution_count": 25,
   "metadata": {
    "collapsed": false
   },
   "outputs": [
    {
     "name": "stdout",
     "output_type": "stream",
     "text": [
      "[ 1.  1.  1.  0.  1.]\n"
     ]
    }
   ],
   "source": [
    "print test_Y - predictions"
   ]
  },
  {
   "cell_type": "code",
   "execution_count": 26,
   "metadata": {
    "collapsed": false
   },
   "outputs": [
    {
     "data": {
      "text/plain": [
       "{'base_score': 0.5,\n",
       " 'colsample_bylevel': 1,\n",
       " 'colsample_bytree': 1,\n",
       " 'gamma': 0,\n",
       " 'learning_rate': 0.1,\n",
       " 'max_delta_step': 0,\n",
       " 'max_depth': 20,\n",
       " 'min_child_weight': 1,\n",
       " 'missing': None,\n",
       " 'n_estimators': 300,\n",
       " 'nthread': -1,\n",
       " 'objective': 'binary:logistic',\n",
       " 'reg_alpha': 0,\n",
       " 'reg_lambda': 1,\n",
       " 'scale_pos_weight': 1,\n",
       " 'seed': 0,\n",
       " 'silent': True,\n",
       " 'subsample': 1}"
      ]
     },
     "execution_count": 26,
     "metadata": {},
     "output_type": "execute_result"
    }
   ],
   "source": [
    "gbm.get_params()"
   ]
  },
  {
   "cell_type": "code",
   "execution_count": 35,
   "metadata": {
    "collapsed": false
   },
   "outputs": [
    {
     "data": {
      "text/plain": [
       "'xgboost_tree.gv.pdf'"
      ]
     },
     "execution_count": 35,
     "metadata": {},
     "output_type": "execute_result"
    }
   ],
   "source": [
    "tree = xgb.to_graphviz(gbm)\n",
    "tree.render('xgboost_tree.gv', view=True)"
   ]
  },
  {
   "cell_type": "code",
   "execution_count": 31,
   "metadata": {
    "collapsed": false
   },
   "outputs": [
    {
     "name": "stdout",
     "output_type": "stream",
     "text": [
      "Axes(0.125,0.1;0.775x0.8)\n"
     ]
    }
   ],
   "source": [
    "print xgb.plot_importance(gbm)\n",
    "import matplotlib.pyplot as plt\n",
    "plt.savefig('xgboost_importance.png')"
   ]
  },
  {
   "cell_type": "code",
   "execution_count": null,
   "metadata": {
    "collapsed": true
   },
   "outputs": [],
   "source": []
  }
 ],
 "metadata": {
  "kernelspec": {
   "display_name": "Python 2",
   "language": "python",
   "name": "python2"
  },
  "language_info": {
   "codemirror_mode": {
    "name": "ipython",
    "version": 2
   },
   "file_extension": ".py",
   "mimetype": "text/x-python",
   "name": "python",
   "nbconvert_exporter": "python",
   "pygments_lexer": "ipython2",
   "version": "2.7.10"
  }
 },
 "nbformat": 4,
 "nbformat_minor": 0
}
