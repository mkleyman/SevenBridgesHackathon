{
 "cells": [
  {
   "cell_type": "code",
   "execution_count": null,
   "metadata": {
    "collapsed": true
   },
   "outputs": [],
   "source": []
  },
  {
   "cell_type": "code",
   "execution_count": 1,
   "metadata": {
    "collapsed": false,
    "scrolled": true
   },
   "outputs": [
    {
     "data": {
      "text/plain": [
       "[     ?|100130426 ?|100133144 ?|100134869   ?|10357   ?|10431 ?|136542  \\\n",
       " RPKM  0.06694772   0.9270708   0.4969419  5.518766  22.36725        0   \n",
       " \n",
       "       ?|155060    ?|26823 ?|280660 ?|317712    ?|340602     ?|388795  \\\n",
       " RPKM  2.880182  0.2761594        0        0  0.01408699  0.006895903   \n",
       " \n",
       "       ?|390284    ?|391343    ?|391714 ?|404770 ?|441362 ?|442388 ?|553137  \\\n",
       " RPKM  0.247565  0.01040163  0.01941341        0        0        0        0   \n",
       " \n",
       "        ?|57714      \n",
       " RPKM  4.278614 ...  \n",
       " \n",
       " [1 rows x 20532 columns],\n",
       "      ?|100130426 ?|100133144 ?|100134869   ?|10357   ?|10431 ?|136542  \\\n",
       " RPKM           0    1.180236    0.450388  4.992169  24.97131        0   \n",
       " \n",
       "       ?|155060    ?|26823 ?|280660 ?|317712 ?|340602   ?|388795   ?|390284  \\\n",
       " RPKM  8.243926  0.2788105        0        0        0  0.0357388  0.2138389   \n",
       " \n",
       "      ?|391343 ?|391714 ?|404770 ?|441362 ?|442388    ?|553137  ?|57714      \n",
       " RPKM        0        0        0        0        0  0.08234143  8.80007 ...  \n",
       " \n",
       " [1 rows x 20532 columns],\n",
       "      ?|100130426 ?|100133144 ?|100134869   ?|10357   ?|10431 ?|136542  \\\n",
       " RPKM  0.04956242   0.9206793   0.3488647  3.163578  14.72296        0   \n",
       " \n",
       "       ?|155060    ?|26823 ?|280660 ?|317712 ?|340602    ?|388795 ?|390284  \\\n",
       " RPKM  6.713778  0.4088899        0        0        0  0.09444512        0   \n",
       " \n",
       "      ?|391343 ?|391714 ?|404770 ?|441362 ?|442388     ?|553137   ?|57714      \n",
       " RPKM        0        0        0        0        0  0.008233496  7.760431 ...  \n",
       " \n",
       " [1 rows x 20532 columns],\n",
       "      ?|100130426 ?|100133144 ?|100134869   ?|10357   ?|10431 ?|136542  \\\n",
       " RPKM           0     1.09992   0.4067801  3.894188  22.01988        0   \n",
       " \n",
       "       ?|155060    ?|26823 ?|280660 ?|317712 ?|340602     ?|388795    ?|390284  \\\n",
       " RPKM  2.999885  0.2930964        0        0        0  0.005367145  0.06422737   \n",
       " \n",
       "      ?|391343 ?|391714 ?|404770 ?|441362 ?|442388   ?|553137   ?|57714      \n",
       " RPKM        0        0        0        0        0  0.0346242  11.20018 ...  \n",
       " \n",
       " [1 rows x 20532 columns],\n",
       "      ?|100130426 ?|100133144 ?|100134869   ?|10357   ?|10431 ?|136542  \\\n",
       " RPKM           0   0.3333464  0.07578716  3.343024  25.94024        0   \n",
       " \n",
       "        ?|155060    ?|26823 ?|280660 ?|317712     ?|340602 ?|388795   ?|390284  \\\n",
       " RPKM  0.9158181  0.2516765        0        0  0.008307013        0  0.1216563   \n",
       " \n",
       "      ?|391343 ?|391714 ?|404770 ?|441362 ?|442388    ?|553137   ?|57714      \n",
       " RPKM        0        0        0        0        0  0.03935008  3.767789 ...  \n",
       " \n",
       " [1 rows x 20532 columns],\n",
       "      ?|100130426 ?|100133144 ?|100134869   ?|10357   ?|10431 ?|136542  \\\n",
       " RPKM           0    1.221118   0.4479714  5.909189  31.01896        0   \n",
       " \n",
       "       ?|155060    ?|26823 ?|280660 ?|317712 ?|340602    ?|388795   ?|390284  \\\n",
       " RPKM  6.183879  0.1899848        0        0        0  0.01423218  0.1703132   \n",
       " \n",
       "         ?|391343 ?|391714 ?|404770 ?|441362 ?|442388   ?|553137  ?|57714      \n",
       " RPKM  0.03577917        0        0        0        0  0.0153023  9.04828 ...  \n",
       " \n",
       " [1 rows x 20532 columns]]"
      ]
     },
     "execution_count": 1,
     "metadata": {},
     "output_type": "execute_result"
    }
   ],
   "source": [
    "import numpy as np\n",
    "import os\n",
    "import pandas as pd #data handling library\n",
    "import sklearn as sk\n",
    "\n",
    "def get_RPKM_by_file(file_name, data_fields):\n",
    "    df = pd.read_table(file_name, usecols=data_fields)\n",
    "    df = df.T # tanspose\n",
    "    new_header = df.iloc[0] #grab the first row for the header\n",
    "    df = df[1:] #take the data less the header row\n",
    "    df = df.rename(columns = new_header.T) #set the header row as the df header\n",
    "    return df\n",
    "\n",
    "data_dir = './Data'\n",
    "data_fields = ('gene','RPKM')\n",
    "RPKM_list = []\n",
    "for dirName, subdirList, fileList in os.walk(data_dir):\n",
    "    RPKM_list.extend(map(lambda f: get_RPKM_by_file(os.path.join(dirName, f), data_fields), fileList))\n",
    "\n",
    "RPKM_list"
   ]
  },
  {
   "cell_type": "code",
   "execution_count": 2,
   "metadata": {
    "collapsed": false
   },
   "outputs": [],
   "source": [
    "\n",
    "#def get_RPKM_by_file(files):\n",
    "#    for file_name in files:\n",
    "#        df = pd.read_table(file_name, usecols=data_fields)\n",
    "#        df = df.T # tanspose\n",
    "#        new_header = df.iloc[0] #grab the first row for the header\n",
    "#        df = df[1:] #take the data less the header row\n",
    "#        df = df.rename(columns = new_header.T) #set the header row as the df header\n",
    "#        RPKM_list.append(df)\n",
    "#    return RPKM_list\n",
    "\n",
    "\n",
    "\n",
    "#flattened_data = get_RPKM_by_file(file_list)\n",
    "\n",
    "\n"
   ]
  },
  {
   "cell_type": "code",
   "execution_count": 3,
   "metadata": {
    "collapsed": false
   },
   "outputs": [
    {
     "name": "stdout",
     "output_type": "stream",
     "text": [
      "     ?|100130426 ?|100133144 ?|100134869   ?|10357   ?|10431 ?|136542  \\\n",
      "RPKM  0.06694772   0.9270708   0.4969419  5.518766  22.36725        0   \n",
      "RPKM           0    1.180236    0.450388  4.992169  24.97131        0   \n",
      "RPKM  0.04956242   0.9206793   0.3488647  3.163578  14.72296        0   \n",
      "RPKM           0     1.09992   0.4067801  3.894188  22.01988        0   \n",
      "RPKM           0   0.3333464  0.07578716  3.343024  25.94024        0   \n",
      "RPKM           0    1.221118   0.4479714  5.909189  31.01896        0   \n",
      "\n",
      "       ?|155060    ?|26823 ?|280660 ?|317712     ?|340602     ?|388795  \\\n",
      "RPKM   2.880182  0.2761594        0        0   0.01408699  0.006895903   \n",
      "RPKM   8.243926  0.2788105        0        0            0    0.0357388   \n",
      "RPKM   6.713778  0.4088899        0        0            0   0.09444512   \n",
      "RPKM   2.999885  0.2930964        0        0            0  0.005367145   \n",
      "RPKM  0.9158181  0.2516765        0        0  0.008307013            0   \n",
      "RPKM   6.183879  0.1899848        0        0            0   0.01423218   \n",
      "\n",
      "        ?|390284    ?|391343    ?|391714 ?|404770 ?|441362 ?|442388  \\\n",
      "RPKM    0.247565  0.01040163  0.01941341        0        0        0   \n",
      "RPKM   0.2138389           0           0        0        0        0   \n",
      "RPKM           0           0           0        0        0        0   \n",
      "RPKM  0.06422737           0           0        0        0        0   \n",
      "RPKM   0.1216563           0           0        0        0        0   \n",
      "RPKM   0.1703132  0.03577917           0        0        0        0   \n",
      "\n",
      "         ?|553137   ?|57714      \n",
      "RPKM            0  4.278614 ...  \n",
      "RPKM   0.08234143   8.80007 ...  \n",
      "RPKM  0.008233496  7.760431 ...  \n",
      "RPKM    0.0346242  11.20018 ...  \n",
      "RPKM   0.03935008  3.767789 ...  \n",
      "RPKM    0.0153023   9.04828 ...  \n",
      "\n",
      "[6 rows x 20532 columns]\n"
     ]
    }
   ],
   "source": [
    "def merge_data(data_list):\n",
    "    df = pd.concat(data_list, axis=0, join='inner', join_axes=None, ignore_index=False,\n",
    "        keys=None, levels=None, names=None, verify_integrity=False)\n",
    "    return df\n",
    "\n",
    "X = merge_data(RPKM_list)\n",
    "Y = np.ravel(map(round, np.random.rand(len(X), 1)))\n",
    "\n",
    "print X"
   ]
  },
  {
   "cell_type": "code",
   "execution_count": 4,
   "metadata": {
    "collapsed": false
   },
   "outputs": [],
   "source": [
    "# Impute missing data, assuming X is all numeric values. Y can be strings.\n",
    "from sklearn.preprocessing import Imputer\n",
    "imp = Imputer(missing_values='NaN', strategy='mean', axis=0)\n",
    "X = imp.fit_transform(X)\n",
    "\n",
    "imp = Imputer(missing_values='NaN', strategy='most_frequent', axis=0)\n",
    "Y = imp.fit_transform(Y)"
   ]
  },
  {
   "cell_type": "code",
   "execution_count": 5,
   "metadata": {
    "collapsed": false
   },
   "outputs": [],
   "source": [
    "# Encode classes as numbers\n",
    "from sklearn.preprocessing import LabelEncoder\n",
    "le = LabelEncoder()\n",
    "nonnumeric_columns_X = []\n",
    "nonnumeric_columns_Y = []\n",
    "if nonnumeric_columns_X:\n",
    "    for feature in nonnumeric_columns_X:\n",
    "        X[feature] = le.fit_transform(X[feature])\n",
    "if nonnumeric_columns_Y:\n",
    "    for feature in nonnumeric_columns_Y:\n",
    "        Y[feature] = le.fit_transform(Y[feature])"
   ]
  },
  {
   "cell_type": "code",
   "execution_count": 6,
   "metadata": {
    "collapsed": false,
    "scrolled": false
   },
   "outputs": [
    {
     "name": "stdout",
     "output_type": "stream",
     "text": [
      "[ 1.  0.  1.  1.  1.  1.]\n",
      "[ True  True  True  True  True  True]\n",
      "[ 1.  0.  1.  1.  1.  1.]\n",
      "[]\n"
     ]
    }
   ],
   "source": [
    "# Split data into train and test sets.\n",
    "def split_data(X, Y, p_train):\n",
    "    msk = np.random.rand(len(RPKM_list)) < p_train\n",
    "    print Y[0]\n",
    "    print msk\n",
    "    X_train = X[msk]\n",
    "    Y_train = Y[0][msk]\n",
    "    return X[msk], X[~msk], Y[0][msk], Y[0][~msk]\n",
    "\n",
    "train_X, test_X, train_Y, test_Y = split_data(X, Y, 0.7)\n",
    "print train_Y\n",
    "print test_Y"
   ]
  },
  {
   "cell_type": "code",
   "execution_count": 8,
   "metadata": {
    "collapsed": false
   },
   "outputs": [
    {
     "name": "stdout",
     "output_type": "stream",
     "text": [
      "['pvalue']\n"
     ]
    }
   ],
   "source": [
    "from utility import statsTest\n",
    "stats = statsTest.statistics_test(pd.DataFrame(train_X), pd.DataFrame(train_Y))\n",
    "print stats[0:10]"
   ]
  },
  {
   "cell_type": "code",
   "execution_count": 2,
   "metadata": {
    "collapsed": false,
    "scrolled": true
   },
   "outputs": [
    {
     "ename": "NameError",
     "evalue": "name 'train_X' is not defined",
     "output_type": "error",
     "traceback": [
      "\u001b[0;31m---------------------------------------------------------------------------\u001b[0m",
      "\u001b[0;31mNameError\u001b[0m                                 Traceback (most recent call last)",
      "\u001b[0;32m<ipython-input-2-3923ee1183c8>\u001b[0m in \u001b[0;36m<module>\u001b[0;34m()\u001b[0m\n\u001b[1;32m      1\u001b[0m \u001b[0;32mimport\u001b[0m \u001b[0mxgboost\u001b[0m \u001b[0;32mas\u001b[0m \u001b[0mxgb\u001b[0m\u001b[0;34m\u001b[0m\u001b[0m\n\u001b[0;32m----> 2\u001b[0;31m \u001b[0mgbm\u001b[0m \u001b[0;34m=\u001b[0m \u001b[0mxgb\u001b[0m\u001b[0;34m.\u001b[0m\u001b[0mXGBClassifier\u001b[0m\u001b[0;34m(\u001b[0m\u001b[0mmax_depth\u001b[0m\u001b[0;34m=\u001b[0m\u001b[0;36m3\u001b[0m\u001b[0;34m,\u001b[0m \u001b[0mn_estimators\u001b[0m\u001b[0;34m=\u001b[0m\u001b[0;36m300\u001b[0m\u001b[0;34m,\u001b[0m \u001b[0mlearning_rate\u001b[0m\u001b[0;34m=\u001b[0m\u001b[0;36m0.05\u001b[0m\u001b[0;34m)\u001b[0m\u001b[0;34m.\u001b[0m\u001b[0mfit\u001b[0m\u001b[0;34m(\u001b[0m\u001b[0mtrain_X\u001b[0m\u001b[0;34m,\u001b[0m \u001b[0mtrain_Y\u001b[0m\u001b[0;34m)\u001b[0m\u001b[0;34m\u001b[0m\u001b[0m\n\u001b[0m\u001b[1;32m      3\u001b[0m \u001b[0mpredictions\u001b[0m \u001b[0;34m=\u001b[0m \u001b[0mgbm\u001b[0m\u001b[0;34m.\u001b[0m\u001b[0mpredict\u001b[0m\u001b[0;34m(\u001b[0m\u001b[0mtest_X\u001b[0m\u001b[0;34m)\u001b[0m\u001b[0;34m\u001b[0m\u001b[0m\n\u001b[1;32m      4\u001b[0m \u001b[0mpredictions\u001b[0m\u001b[0;34m\u001b[0m\u001b[0m\n",
      "\u001b[0;31mNameError\u001b[0m: name 'train_X' is not defined"
     ]
    }
   ],
   "source": [
    "import xgboost as xgb\n",
    "gbm = xgb.XGBClassifier(max_depth=3, n_estimators=300, learning_rate=0.05).fit(train_X, train_Y)\n",
    "predictions = gbm.predict(test_X)\n",
    "predictions"
   ]
  },
  {
   "cell_type": "code",
   "execution_count": 1,
   "metadata": {
    "collapsed": false
   },
   "outputs": [
    {
     "ename": "ImportError",
     "evalue": "No module named StatsTest",
     "output_type": "error",
     "traceback": [
      "\u001b[0;31m---------------------------------------------------------------------------\u001b[0m",
      "\u001b[0;31mImportError\u001b[0m                               Traceback (most recent call last)",
      "\u001b[0;32m<ipython-input-1-f66791c756ef>\u001b[0m in \u001b[0;36m<module>\u001b[0;34m()\u001b[0m\n\u001b[0;32m----> 1\u001b[0;31m \u001b[0;32mfrom\u001b[0m \u001b[0mutility\u001b[0m\u001b[0;34m.\u001b[0m\u001b[0mStatsTest\u001b[0m \u001b[0;32mimport\u001b[0m \u001b[0mstatistics_test\u001b[0m\u001b[0;34m\u001b[0m\u001b[0m\n\u001b[0m\u001b[1;32m      2\u001b[0m \u001b[0mstats\u001b[0m \u001b[0;34m=\u001b[0m \u001b[0mstatistics_test\u001b[0m\u001b[0;34m(\u001b[0m\u001b[0mtrain_X\u001b[0m\u001b[0;34m,\u001b[0m \u001b[0mtrain_Y\u001b[0m\u001b[0;34m)\u001b[0m\u001b[0;34m\u001b[0m\u001b[0m\n",
      "\u001b[0;31mImportError\u001b[0m: No module named StatsTest"
     ]
    }
   ],
   "source": []
  },
  {
   "cell_type": "code",
   "execution_count": null,
   "metadata": {
    "collapsed": true
   },
   "outputs": [],
   "source": []
  }
 ],
 "metadata": {
  "kernelspec": {
   "display_name": "Python 2",
   "language": "python",
   "name": "python2"
  },
  "language_info": {
   "codemirror_mode": {
    "name": "ipython",
    "version": 2
   },
   "file_extension": ".py",
   "mimetype": "text/x-python",
   "name": "python",
   "nbconvert_exporter": "python",
   "pygments_lexer": "ipython2",
   "version": "2.7.10"
  }
 },
 "nbformat": 4,
 "nbformat_minor": 0
}
